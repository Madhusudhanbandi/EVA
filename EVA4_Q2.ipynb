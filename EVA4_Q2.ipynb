{
  "nbformat": 4,
  "nbformat_minor": 0,
  "metadata": {
    "colab": {
      "name": "EVA4_Q2.ipynb",
      "provenance": [],
      "collapsed_sections": [],
      "authorship_tag": "ABX9TyOeZ9TB4c2D1JVU4N4oP8n2",
      "include_colab_link": true
    },
    "kernelspec": {
      "name": "python3",
      "display_name": "Python 3"
    }
  },
  "cells": [
    {
      "cell_type": "markdown",
      "metadata": {
        "id": "view-in-github",
        "colab_type": "text"
      },
      "source": [
        "<a href=\"https://colab.research.google.com/github/Madhusudhanbandi/EVA/blob/master/EVA4_Q2.ipynb\" target=\"_parent\"><img src=\"https://colab.research.google.com/assets/colab-badge.svg\" alt=\"Open In Colab\"/></a>"
      ]
    },
    {
      "cell_type": "code",
      "metadata": {
        "id": "Sc5beJrrVplP",
        "colab_type": "code",
        "colab": {}
      },
      "source": [
        "from __future__ import print_function\n",
        "import torch\n",
        "import torch.nn as nn\n",
        "import torch.nn.functional as F\n",
        "import torch.optim as optim\n",
        "from torchvision import datasets, transforms"
      ],
      "execution_count": 0,
      "outputs": []
    },
    {
      "cell_type": "code",
      "metadata": {
        "id": "QWFOkUL0V7kD",
        "colab_type": "code",
        "colab": {}
      },
      "source": [
        "class Net(nn.Module):\n",
        "    def __init__(self):\n",
        "        super(Net, self).__init__()\n",
        "        self.conv1 = nn.Conv2d(1, 8, 3, padding=1) \n",
        "        self.bnorm1 = nn.BatchNorm2d(8)\n",
        "        self.drop1 = nn.Dropout2d(0.2)\n",
        "        self.conv2 = nn.Conv2d(8, 12, 3, padding=1)\n",
        "        self.bnorm2 = nn.BatchNorm2d(12)\n",
        "        self.drop1 = nn.Dropout2d(0.2)\n",
        "        self.pool1 = nn.MaxPool2d(2, 2)\n",
        "        self.conv3 = nn.Conv2d(12, 16, 3, padding=1)\n",
        "        self.bnorm3 = nn.BatchNorm2d(16)\n",
        "        self.conv4 = nn.Conv2d(16, 20, 3, padding=1)\n",
        "        self.bnorm4 = nn.BatchNorm2d(20)\n",
        "        self.pool2 = nn.MaxPool2d(2, 2)\n",
        "        self.conv5 = nn.Conv2d(20, 24, 3)\n",
        "        self.bnorm5 = nn.BatchNorm2d(24)\n",
        "        self.conv6 = nn.Conv2d(24, 32, 3)\n",
        "        self.conv7 = nn.Conv2d(32, 10, 3)\n",
        "        # self.conv8 = nn.AvgPool2d(2,1)\n",
        "\n",
        "    def forward(self, x):\n",
        "        x = self.pool1(self.bnorm2(F.relu(self.drop1(self.conv2(self.bnorm1(F.relu(self.drop1(self.conv1(x)))))))))\n",
        "        x = self.pool2(self.bnorm4(F.relu(self.conv4(self.bnorm3(F.relu(self.drop1(self.conv3(x))))))))\n",
        "        x = F.relu(self.conv6(self.bnorm5(F.relu(self.conv5(x)))))\n",
        "        x = self.conv7(x)\n",
        "        x = x.view(-1, 10)\n",
        "        return F.log_softmax(x)"
      ],
      "execution_count": 0,
      "outputs": []
    },
    {
      "cell_type": "code",
      "metadata": {
        "id": "jRq8aBNNWIBN",
        "colab_type": "code",
        "outputId": "315ab17e-8fbb-4319-bc0a-8a69c456eb01",
        "colab": {
          "base_uri": "https://localhost:8080/",
          "height": 581
        }
      },
      "source": [
        "!pip install torchsummary\n",
        "from torchsummary import summary\n",
        "use_cuda = torch.cuda.is_available()\n",
        "device = torch.device(\"cuda\" if use_cuda else \"cpu\")\n",
        "model = Net().to(device)\n",
        "summary(model, input_size=(1, 28, 28))"
      ],
      "execution_count": 60,
      "outputs": [
        {
          "output_type": "stream",
          "text": [
            "Requirement already satisfied: torchsummary in /usr/local/lib/python3.6/dist-packages (1.5.1)\n",
            "----------------------------------------------------------------\n",
            "        Layer (type)               Output Shape         Param #\n",
            "================================================================\n",
            "            Conv2d-1            [-1, 8, 28, 28]              80\n",
            "         Dropout2d-2            [-1, 8, 28, 28]               0\n",
            "       BatchNorm2d-3            [-1, 8, 28, 28]              16\n",
            "            Conv2d-4           [-1, 12, 28, 28]             876\n",
            "         Dropout2d-5           [-1, 12, 28, 28]               0\n",
            "       BatchNorm2d-6           [-1, 12, 28, 28]              24\n",
            "         MaxPool2d-7           [-1, 12, 14, 14]               0\n",
            "            Conv2d-8           [-1, 16, 14, 14]           1,744\n",
            "         Dropout2d-9           [-1, 16, 14, 14]               0\n",
            "      BatchNorm2d-10           [-1, 16, 14, 14]              32\n",
            "           Conv2d-11           [-1, 20, 14, 14]           2,900\n",
            "      BatchNorm2d-12           [-1, 20, 14, 14]              40\n",
            "        MaxPool2d-13             [-1, 20, 7, 7]               0\n",
            "           Conv2d-14             [-1, 24, 5, 5]           4,344\n",
            "      BatchNorm2d-15             [-1, 24, 5, 5]              48\n",
            "           Conv2d-16             [-1, 32, 3, 3]           6,944\n",
            "           Conv2d-17             [-1, 10, 1, 1]           2,890\n",
            "================================================================\n",
            "Total params: 19,938\n",
            "Trainable params: 19,938\n",
            "Non-trainable params: 0\n",
            "----------------------------------------------------------------\n",
            "Input size (MB): 0.00\n",
            "Forward/backward pass size (MB): 0.53\n",
            "Params size (MB): 0.08\n",
            "Estimated Total Size (MB): 0.61\n",
            "----------------------------------------------------------------\n"
          ],
          "name": "stdout"
        },
        {
          "output_type": "stream",
          "text": [
            "/usr/local/lib/python3.6/dist-packages/ipykernel_launcher.py:28: UserWarning: Implicit dimension choice for log_softmax has been deprecated. Change the call to include dim=X as an argument.\n"
          ],
          "name": "stderr"
        }
      ]
    },
    {
      "cell_type": "code",
      "metadata": {
        "id": "__6Gv5_uWOYk",
        "colab_type": "code",
        "colab": {}
      },
      "source": [
        "\n",
        "\n",
        "# torch.manual_seed(1)\n",
        "batch_size = 128\n",
        "\n",
        "kwargs = {'num_workers': 1, 'pin_memory': True} if use_cuda else {}\n",
        "train_loader = torch.utils.data.DataLoader(\n",
        "    datasets.MNIST('../data', train=True, download=True,\n",
        "                    transform=transforms.Compose([\n",
        "                        transforms.ToTensor(),\n",
        "                        transforms.Normalize((0.1307,), (0.3081,))\n",
        "                    ])),\n",
        "    batch_size=batch_size, shuffle=True, **kwargs)\n",
        "test_loader = torch.utils.data.DataLoader(\n",
        "    datasets.MNIST('../data', train=False, transform=transforms.Compose([\n",
        "                        transforms.ToTensor(),\n",
        "                        transforms.Normalize((0.1307,), (0.3081,))\n",
        "                    ])),\n",
        "    batch_size=batch_size, shuffle=True, **kwargs)\n"
      ],
      "execution_count": 0,
      "outputs": []
    },
    {
      "cell_type": "code",
      "metadata": {
        "id": "Zx7R5DtKWP1D",
        "colab_type": "code",
        "colab": {}
      },
      "source": [
        "from tqdm import tqdm\n",
        "def train(model, device, train_loader, optimizer, epoch):\n",
        "    model.train()\n",
        "    pbar = tqdm(train_loader)\n",
        "    for batch_idx, (data, target) in enumerate(pbar):\n",
        "        data, target = data.to(device), target.to(device)\n",
        "        optimizer.zero_grad() #clears old gradients from the last step (otherwise you’d just accumulate the gradients from all loss.backward() calls).\n",
        "        output = model(data) # outputof the model means which class\n",
        "        loss = F.nll_loss(output, target) #loss calculation output(predicted) - target(actual)\n",
        "        loss.backward()  #  computes the derivative of the loss w.r.t. the parameters (or anything requiring gradients) using backpropagation.\n",
        "        optimizer.step() # causes the optimizer to take a step based on the gradients of the parameters.\n",
        "        pbar.set_description(desc= f'loss={loss.item()} batch_id={batch_idx}')\n",
        "\n",
        "\n",
        "def test(model, device, test_loader):\n",
        "    model.eval()\n",
        "    test_loss = 0\n",
        "    correct = 0\n",
        "    with torch.no_grad():\n",
        "        for data, target in test_loader:\n",
        "            data, target = data.to(device), target.to(device)\n",
        "            output = model(data)\n",
        "            test_loss += F.nll_loss(output, target, reduction='sum').item()  # sum up batch loss\n",
        "            pred = output.argmax(dim=1, keepdim=True)  # get the index of the max log-probability\n",
        "            correct += pred.eq(target.view_as(pred)).sum().item()\n",
        "\n",
        "    test_loss /= len(test_loader.dataset)\n",
        "\n",
        "    print('\\nTest set: Average loss: {:.4f}, Accuracy: {}/{} ({:.2f}%)\\n'.format(\n",
        "        test_loss, correct, len(test_loader.dataset),\n",
        "        100. * correct / len(test_loader.dataset)))"
      ],
      "execution_count": 0,
      "outputs": []
    },
    {
      "cell_type": "code",
      "metadata": {
        "id": "zV5iljN-WX6h",
        "colab_type": "code",
        "outputId": "9f8f7a45-c0c2-490e-f58b-1659af3f5f9f",
        "colab": {
          "base_uri": "https://localhost:8080/",
          "height": 1000
        }
      },
      "source": [
        "\n",
        "model = Net().to(device)\n",
        "optimizer = optim.SGD(model.parameters(), lr=0.01, momentum=0.9)\n",
        "\n",
        "for epoch in range(1,20):\n",
        "    train(model, device, train_loader, optimizer, epoch)\n",
        "    test(model, device, test_loader)"
      ],
      "execution_count": 65,
      "outputs": [
        {
          "output_type": "stream",
          "text": [
            "  0%|          | 0/469 [00:00<?, ?it/s]/usr/local/lib/python3.6/dist-packages/ipykernel_launcher.py:28: UserWarning: Implicit dimension choice for log_softmax has been deprecated. Change the call to include dim=X as an argument.\n",
            "loss=0.04878832399845123 batch_id=468: 100%|██████████| 469/469 [01:17<00:00,  6.33it/s]\n",
            "loss=0.08237438648939133 batch_id=0:   0%|          | 1/469 [00:00<01:18,  5.99it/s]"
          ],
          "name": "stderr"
        },
        {
          "output_type": "stream",
          "text": [
            "\n",
            "Test set: Average loss: 0.0575, Accuracy: 9804/10000 (98%)\n",
            "\n"
          ],
          "name": "stdout"
        },
        {
          "output_type": "stream",
          "text": [
            "loss=0.04418899118900299 batch_id=468: 100%|██████████| 469/469 [01:17<00:00,  6.34it/s]\n",
            "loss=0.040244899690151215 batch_id=0:   0%|          | 1/469 [00:00<01:15,  6.17it/s]"
          ],
          "name": "stderr"
        },
        {
          "output_type": "stream",
          "text": [
            "\n",
            "Test set: Average loss: 0.0363, Accuracy: 9878/10000 (99%)\n",
            "\n"
          ],
          "name": "stdout"
        },
        {
          "output_type": "stream",
          "text": [
            "loss=0.036200150847435 batch_id=468: 100%|██████████| 469/469 [01:16<00:00,  6.17it/s]\n",
            "loss=0.08382202684879303 batch_id=0:   0%|          | 1/469 [00:00<01:14,  6.30it/s]"
          ],
          "name": "stderr"
        },
        {
          "output_type": "stream",
          "text": [
            "\n",
            "Test set: Average loss: 0.0314, Accuracy: 9883/10000 (99%)\n",
            "\n"
          ],
          "name": "stdout"
        },
        {
          "output_type": "stream",
          "text": [
            "loss=0.03815804421901703 batch_id=468: 100%|██████████| 469/469 [01:17<00:00,  6.29it/s]\n",
            "loss=0.042876165360212326 batch_id=0:   0%|          | 1/469 [00:00<01:11,  6.50it/s]"
          ],
          "name": "stderr"
        },
        {
          "output_type": "stream",
          "text": [
            "\n",
            "Test set: Average loss: 0.0314, Accuracy: 9902/10000 (99%)\n",
            "\n"
          ],
          "name": "stdout"
        },
        {
          "output_type": "stream",
          "text": [
            "loss=0.008100546896457672 batch_id=468: 100%|██████████| 469/469 [01:17<00:00,  6.50it/s]\n",
            "loss=0.02020476944744587 batch_id=0:   0%|          | 1/469 [00:00<01:19,  5.90it/s]"
          ],
          "name": "stderr"
        },
        {
          "output_type": "stream",
          "text": [
            "\n",
            "Test set: Average loss: 0.0232, Accuracy: 9919/10000 (99%)\n",
            "\n"
          ],
          "name": "stdout"
        },
        {
          "output_type": "stream",
          "text": [
            "loss=0.056410279124975204 batch_id=468: 100%|██████████| 469/469 [01:17<00:00,  6.57it/s]\n",
            "loss=0.01162596046924591 batch_id=0:   0%|          | 1/469 [00:00<01:19,  5.87it/s]"
          ],
          "name": "stderr"
        },
        {
          "output_type": "stream",
          "text": [
            "\n",
            "Test set: Average loss: 0.0229, Accuracy: 9921/10000 (99%)\n",
            "\n"
          ],
          "name": "stdout"
        },
        {
          "output_type": "stream",
          "text": [
            "loss=0.0874578133225441 batch_id=468: 100%|██████████| 469/469 [01:17<00:00,  6.49it/s]\n",
            "loss=0.013008293695747852 batch_id=0:   0%|          | 1/469 [00:00<01:15,  6.19it/s]"
          ],
          "name": "stderr"
        },
        {
          "output_type": "stream",
          "text": [
            "\n",
            "Test set: Average loss: 0.0245, Accuracy: 9916/10000 (99%)\n",
            "\n"
          ],
          "name": "stdout"
        },
        {
          "output_type": "stream",
          "text": [
            "loss=0.03543779253959656 batch_id=468: 100%|██████████| 469/469 [01:17<00:00,  6.68it/s]\n",
            "loss=0.0027130001690238714 batch_id=0:   0%|          | 1/469 [00:00<01:14,  6.30it/s]"
          ],
          "name": "stderr"
        },
        {
          "output_type": "stream",
          "text": [
            "\n",
            "Test set: Average loss: 0.0214, Accuracy: 9925/10000 (99%)\n",
            "\n"
          ],
          "name": "stdout"
        },
        {
          "output_type": "stream",
          "text": [
            "loss=0.016391905024647713 batch_id=468: 100%|██████████| 469/469 [01:17<00:00,  6.39it/s]\n",
            "loss=0.02909497171640396 batch_id=0:   0%|          | 1/469 [00:00<01:18,  5.97it/s]"
          ],
          "name": "stderr"
        },
        {
          "output_type": "stream",
          "text": [
            "\n",
            "Test set: Average loss: 0.0219, Accuracy: 9924/10000 (99%)\n",
            "\n"
          ],
          "name": "stdout"
        },
        {
          "output_type": "stream",
          "text": [
            "loss=0.013193242251873016 batch_id=468: 100%|██████████| 469/469 [01:17<00:00,  6.44it/s]\n",
            "loss=0.022382671013474464 batch_id=0:   0%|          | 1/469 [00:00<01:16,  6.11it/s]"
          ],
          "name": "stderr"
        },
        {
          "output_type": "stream",
          "text": [
            "\n",
            "Test set: Average loss: 0.0203, Accuracy: 9930/10000 (99%)\n",
            "\n"
          ],
          "name": "stdout"
        },
        {
          "output_type": "stream",
          "text": [
            "loss=0.06660211831331253 batch_id=468: 100%|██████████| 469/469 [01:16<00:00,  6.80it/s]\n",
            "loss=0.05877922847867012 batch_id=0:   0%|          | 1/469 [00:00<01:20,  5.80it/s]"
          ],
          "name": "stderr"
        },
        {
          "output_type": "stream",
          "text": [
            "\n",
            "Test set: Average loss: 0.0196, Accuracy: 9931/10000 (99%)\n",
            "\n"
          ],
          "name": "stdout"
        },
        {
          "output_type": "stream",
          "text": [
            "loss=0.02838364988565445 batch_id=468: 100%|██████████| 469/469 [01:16<00:00,  5.90it/s]\n",
            "loss=0.004804262425750494 batch_id=0:   0%|          | 1/469 [00:00<01:19,  5.91it/s]"
          ],
          "name": "stderr"
        },
        {
          "output_type": "stream",
          "text": [
            "\n",
            "Test set: Average loss: 0.0201, Accuracy: 9930/10000 (99%)\n",
            "\n"
          ],
          "name": "stdout"
        },
        {
          "output_type": "stream",
          "text": [
            "loss=0.011023052036762238 batch_id=468: 100%|██████████| 469/469 [01:16<00:00,  6.24it/s]\n",
            "loss=0.014546587131917477 batch_id=0:   0%|          | 1/469 [00:00<01:17,  6.07it/s]"
          ],
          "name": "stderr"
        },
        {
          "output_type": "stream",
          "text": [
            "\n",
            "Test set: Average loss: 0.0198, Accuracy: 9939/10000 (99%)\n",
            "\n"
          ],
          "name": "stdout"
        },
        {
          "output_type": "stream",
          "text": [
            "loss=0.029119903221726418 batch_id=468: 100%|██████████| 469/469 [01:16<00:00,  6.45it/s]\n",
            "loss=0.0009093979606404901 batch_id=0:   0%|          | 1/469 [00:00<01:12,  6.43it/s]"
          ],
          "name": "stderr"
        },
        {
          "output_type": "stream",
          "text": [
            "\n",
            "Test set: Average loss: 0.0205, Accuracy: 9924/10000 (99%)\n",
            "\n"
          ],
          "name": "stdout"
        },
        {
          "output_type": "stream",
          "text": [
            "loss=0.11212727427482605 batch_id=468: 100%|██████████| 469/469 [01:17<00:00,  6.41it/s]\n",
            "loss=0.0018030389910563827 batch_id=0:   0%|          | 1/469 [00:00<01:14,  6.24it/s]"
          ],
          "name": "stderr"
        },
        {
          "output_type": "stream",
          "text": [
            "\n",
            "Test set: Average loss: 0.0198, Accuracy: 9931/10000 (99%)\n",
            "\n"
          ],
          "name": "stdout"
        },
        {
          "output_type": "stream",
          "text": [
            "loss=0.001998001942411065 batch_id=468: 100%|██████████| 469/469 [01:16<00:00,  6.57it/s]\n",
            "loss=0.004782510455697775 batch_id=0:   0%|          | 1/469 [00:00<01:17,  6.03it/s]"
          ],
          "name": "stderr"
        },
        {
          "output_type": "stream",
          "text": [
            "\n",
            "Test set: Average loss: 0.0195, Accuracy: 9940/10000 (99%)\n",
            "\n"
          ],
          "name": "stdout"
        },
        {
          "output_type": "stream",
          "text": [
            "loss=0.0038782134652137756 batch_id=468: 100%|██████████| 469/469 [01:16<00:00,  6.80it/s]\n",
            "loss=0.034253526479005814 batch_id=0:   0%|          | 1/469 [00:00<01:17,  6.04it/s]"
          ],
          "name": "stderr"
        },
        {
          "output_type": "stream",
          "text": [
            "\n",
            "Test set: Average loss: 0.0218, Accuracy: 9932/10000 (99%)\n",
            "\n"
          ],
          "name": "stdout"
        },
        {
          "output_type": "stream",
          "text": [
            "loss=0.004159195348620415 batch_id=468: 100%|██████████| 469/469 [01:17<00:00,  6.77it/s]\n",
            "loss=0.009424526244401932 batch_id=0:   0%|          | 1/469 [00:00<01:16,  6.14it/s]"
          ],
          "name": "stderr"
        },
        {
          "output_type": "stream",
          "text": [
            "\n",
            "Test set: Average loss: 0.0230, Accuracy: 9929/10000 (99%)\n",
            "\n"
          ],
          "name": "stdout"
        },
        {
          "output_type": "stream",
          "text": [
            "loss=0.009703089483082294 batch_id=468: 100%|██████████| 469/469 [01:16<00:00,  6.17it/s]\n"
          ],
          "name": "stderr"
        },
        {
          "output_type": "stream",
          "text": [
            "\n",
            "Test set: Average loss: 0.0195, Accuracy: 9934/10000 (99%)\n",
            "\n"
          ],
          "name": "stdout"
        }
      ]
    }
  ]
}